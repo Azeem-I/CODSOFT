{
 "cells": [
  {
   "cell_type": "markdown",
   "id": "f7ef1fdb",
   "metadata": {},
   "source": [
    "### STEPS IN MACHINE LEARNING FRAMEWORK\n",
    "- load the dataset\n",
    "- Identify the input variables and the target or output variable.\n",
    "\n",
    "**If the target variable is discrete then classification task has to be performed.The algorithm that we can use here is KNN classifier,logistic regeression classifier,support vector classifier,decision tree classifier,naive Bayes classifier,voting ensemble classifier,stacking classifier,Random Forest Classifier,Cascading,Ada boost classifier,GBDT classifier,XGBoost classifier and ANN Classifier.    \n",
    "If the target variable is continous then the Regression task has to be perfomed.The alggorithm used in regression task is KNN regressor,Decision Tree Regressor,Liner Regressor,Support Vector regressor,Voting Ensemble Regressor,Stacking Regressor,Random forest Regressor,cascading,ADR Boost Regressor,GBDT Regressor,XGBoost regressor,ANN Regressor.** \n",
    "\n",
    "**On the basis of target variable we can identify which evaluation metric can we use.   \n",
    "If the target variable is discrete we can choose Accuracy,Confusion matrix,Precision and Recall,F1-score,ROC-AUC evaluation metrics.  \n",
    "If the target variable is continous then we can choose Mean absolute error,Mean square error,Root Mean square error,R^2 and Adjusted R^2 evaluation metrics.**  \n",
    "\n",
    "- split the data into train and test.\n",
    "- data preparation on X_train(fit and transform both)\n",
    "- Building the model.\n",
    "- data preparation on X_test\n",
    "- Prediction on test data.\n",
    "- Evaluation of model.\n"
   ]
  },
  {
   "cell_type": "code",
   "execution_count": 1,
   "id": "ac09a190",
   "metadata": {},
   "outputs": [],
   "source": [
    "import pandas as pd \n",
    "import numpy as np\n",
    "import matplotlib.pyplot as plt \n",
    "import seaborn as sns \n"
   ]
  },
  {
   "cell_type": "code",
   "execution_count": 2,
   "id": "15acabd2",
   "metadata": {},
   "outputs": [
    {
     "data": {
      "text/html": [
       "<div>\n",
       "<style scoped>\n",
       "    .dataframe tbody tr th:only-of-type {\n",
       "        vertical-align: middle;\n",
       "    }\n",
       "\n",
       "    .dataframe tbody tr th {\n",
       "        vertical-align: top;\n",
       "    }\n",
       "\n",
       "    .dataframe thead th {\n",
       "        text-align: right;\n",
       "    }\n",
       "</style>\n",
       "<table border=\"1\" class=\"dataframe\">\n",
       "  <thead>\n",
       "    <tr style=\"text-align: right;\">\n",
       "      <th></th>\n",
       "      <th>Id</th>\n",
       "      <th>SepalLengthCm</th>\n",
       "      <th>SepalWidthCm</th>\n",
       "      <th>PetalLengthCm</th>\n",
       "      <th>PetalWidthCm</th>\n",
       "      <th>Species</th>\n",
       "    </tr>\n",
       "  </thead>\n",
       "  <tbody>\n",
       "    <tr>\n",
       "      <th>0</th>\n",
       "      <td>1</td>\n",
       "      <td>5.1</td>\n",
       "      <td>3.5</td>\n",
       "      <td>1.4</td>\n",
       "      <td>0.2</td>\n",
       "      <td>Iris-setosa</td>\n",
       "    </tr>\n",
       "    <tr>\n",
       "      <th>1</th>\n",
       "      <td>2</td>\n",
       "      <td>4.9</td>\n",
       "      <td>3.0</td>\n",
       "      <td>1.4</td>\n",
       "      <td>0.2</td>\n",
       "      <td>Iris-setosa</td>\n",
       "    </tr>\n",
       "    <tr>\n",
       "      <th>2</th>\n",
       "      <td>3</td>\n",
       "      <td>4.7</td>\n",
       "      <td>3.2</td>\n",
       "      <td>1.3</td>\n",
       "      <td>0.2</td>\n",
       "      <td>Iris-setosa</td>\n",
       "    </tr>\n",
       "    <tr>\n",
       "      <th>3</th>\n",
       "      <td>4</td>\n",
       "      <td>4.6</td>\n",
       "      <td>3.1</td>\n",
       "      <td>1.5</td>\n",
       "      <td>0.2</td>\n",
       "      <td>Iris-setosa</td>\n",
       "    </tr>\n",
       "    <tr>\n",
       "      <th>4</th>\n",
       "      <td>5</td>\n",
       "      <td>5.0</td>\n",
       "      <td>3.6</td>\n",
       "      <td>1.4</td>\n",
       "      <td>0.2</td>\n",
       "      <td>Iris-setosa</td>\n",
       "    </tr>\n",
       "  </tbody>\n",
       "</table>\n",
       "</div>"
      ],
      "text/plain": [
       "   Id  SepalLengthCm  SepalWidthCm  PetalLengthCm  PetalWidthCm      Species\n",
       "0   1            5.1           3.5            1.4           0.2  Iris-setosa\n",
       "1   2            4.9           3.0            1.4           0.2  Iris-setosa\n",
       "2   3            4.7           3.2            1.3           0.2  Iris-setosa\n",
       "3   4            4.6           3.1            1.5           0.2  Iris-setosa\n",
       "4   5            5.0           3.6            1.4           0.2  Iris-setosa"
      ]
     },
     "execution_count": 2,
     "metadata": {},
     "output_type": "execute_result"
    }
   ],
   "source": [
    "#loading the dataset\n",
    "df=pd.read_csv(\"data/Iris.csv\")\n",
    "df.head() "
   ]
  },
  {
   "cell_type": "code",
   "execution_count": 17,
   "id": "8bc95444",
   "metadata": {},
   "outputs": [
    {
     "data": {
      "text/plain": [
       "(150, 6)"
      ]
     },
     "execution_count": 17,
     "metadata": {},
     "output_type": "execute_result"
    }
   ],
   "source": [
    "df.shape"
   ]
  },
  {
   "cell_type": "markdown",
   "id": "2790630c",
   "metadata": {},
   "source": [
    "- **There are four numerical columns and 1 categorical column.  \n",
    "On the basis of SepalLengthCm,SepalWidthCm,PetalLengthCm,PetalWidthCm we have to find species.**\n",
    "\n",
    "- **Input Variables:SepalLengthCm,PetalWidthCm(All numerical)  \n",
    "Target variable:Species(Categorical)** \n",
    "\n",
    "\n",
    "- **Here the target variable is categorical so we will go with classification task and the classification evaluation metric.**\n",
    "\n",
    "- **All the input variables are continous so we can transform the data using standardization or normalization** \n"
   ]
  },
  {
   "cell_type": "markdown",
   "id": "f7b24816",
   "metadata": {},
   "source": [
    "### IDENTIFYING THE DATA "
   ]
  },
  {
   "cell_type": "code",
   "execution_count": 3,
   "id": "044c55f1",
   "metadata": {},
   "outputs": [],
   "source": [
    "#TARGET VARIABLE\n",
    "y=df[\"Species\"]\n",
    "\n",
    "#INPUT VARIABLES\n",
    "X=df[[\"SepalLengthCm\",\"PetalWidthCm\"]]"
   ]
  },
  {
   "cell_type": "markdown",
   "id": "87f7a9a0",
   "metadata": {},
   "source": [
    "### SPLITTING THE DATA INTO TRAIN TEST "
   ]
  },
  {
   "cell_type": "code",
   "execution_count": 4,
   "id": "d4ed3e06",
   "metadata": {},
   "outputs": [
    {
     "name": "stdout",
     "output_type": "stream",
     "text": [
      "(105, 2) (105,)\n",
      "(45, 2) (45,)\n"
     ]
    }
   ],
   "source": [
    "from sklearn.model_selection import train_test_split \n",
    "X_train,X_test,y_train,y_test=train_test_split(X,y,test_size=0.30,random_state=0)\n",
    "\n",
    "print(X_train.shape,y_train.shape)\n",
    "print(X_test.shape,y_test.shape)"
   ]
  },
  {
   "cell_type": "markdown",
   "id": "8154b050",
   "metadata": {},
   "source": [
    "### DATA PREPARATION FOR THE X_train data (FIT AND TRANSFORM) USING STANDARDIZATION\n"
   ]
  },
  {
   "cell_type": "code",
   "execution_count": 47,
   "id": "2e516bd9",
   "metadata": {},
   "outputs": [
    {
     "name": "stdout",
     "output_type": "stream",
     "text": [
      "(105, 2)\n"
     ]
    }
   ],
   "source": [
    "from sklearn.preprocessing import StandardScaler \n",
    "scaler=StandardScaler() \n",
    "X_train_transformed=scaler.fit_transform(X_train) \n",
    "print(X_train_transformed.shape) "
   ]
  },
  {
   "cell_type": "markdown",
   "id": "c87b5407",
   "metadata": {},
   "source": [
    "### TRAINING OR MODEL BUILDING \n"
   ]
  },
  {
   "cell_type": "code",
   "execution_count": 48,
   "id": "fc9f2d9d",
   "metadata": {},
   "outputs": [
    {
     "data": {
      "text/plain": [
       "LogisticRegression()"
      ]
     },
     "execution_count": 48,
     "metadata": {},
     "output_type": "execute_result"
    }
   ],
   "source": [
    "#using the logistic regression \n",
    "from sklearn.linear_model import LogisticRegression\n",
    "classifier_logistic=LogisticRegression() \n",
    "classifier_logistic.fit(X_train_transformed,y_train)"
   ]
  },
  {
   "cell_type": "code",
   "execution_count": 49,
   "id": "f43adf4f",
   "metadata": {},
   "outputs": [
    {
     "data": {
      "text/plain": [
       "KNeighborsClassifier()"
      ]
     },
     "execution_count": 49,
     "metadata": {},
     "output_type": "execute_result"
    }
   ],
   "source": [
    "#using KNN \n",
    "from sklearn.neighbors import KNeighborsClassifier \n",
    "classifier_knn=KNeighborsClassifier()\n",
    "classifier_knn.fit(X_train_transformed,y_train)"
   ]
  },
  {
   "cell_type": "code",
   "execution_count": 50,
   "id": "2671ba86",
   "metadata": {},
   "outputs": [
    {
     "data": {
      "text/plain": [
       "DecisionTreeClassifier()"
      ]
     },
     "execution_count": 50,
     "metadata": {},
     "output_type": "execute_result"
    }
   ],
   "source": [
    "# using decision tree \n",
    "from sklearn.tree import DecisionTreeClassifier\n",
    "classifier_tree=DecisionTreeClassifier()\n",
    "classifier_tree.fit(X_train_transformed,y_train)"
   ]
  },
  {
   "cell_type": "code",
   "execution_count": 51,
   "id": "79c3502d",
   "metadata": {},
   "outputs": [
    {
     "data": {
      "text/plain": [
       "RandomForestClassifier()"
      ]
     },
     "execution_count": 51,
     "metadata": {},
     "output_type": "execute_result"
    }
   ],
   "source": [
    "#using random forest classifier\n",
    "from sklearn.ensemble import RandomForestClassifier\n",
    "classifier_forest=RandomForestClassifier()\n",
    "classifier_forest.fit(X_train_transformed,y_train)"
   ]
  },
  {
   "cell_type": "markdown",
   "id": "727e78dc",
   "metadata": {},
   "source": [
    "### DATA PREPARATION ON TEST DATA(ONLY TRANSFORMATION) "
   ]
  },
  {
   "cell_type": "code",
   "execution_count": 52,
   "id": "41197e06",
   "metadata": {},
   "outputs": [
    {
     "name": "stdout",
     "output_type": "stream",
     "text": [
      "(45, 2)\n"
     ]
    }
   ],
   "source": [
    "#STANDARDIZING USING THE TRAIN DATA VALUES ,HERE WE TRANSFORM THE TEST DATA \n",
    "X_test_transformed=scaler.transform(X_test)\n",
    "print(X_test_transformed.shape) "
   ]
  },
  {
   "cell_type": "markdown",
   "id": "50b4bc5c",
   "metadata": {},
   "source": [
    "### PREDICTION "
   ]
  },
  {
   "cell_type": "code",
   "execution_count": 53,
   "id": "1185258a",
   "metadata": {},
   "outputs": [],
   "source": [
    "#for logistic regression classifier\n",
    "y_test_pred_logistic=classifier_logistic.predict(X_test_transformed) \n",
    "\n",
    "#for Knn classifier\n",
    "y_test_pred_knn=classifier_knn.predict(X_test_transformed) \n",
    "\n",
    "#for decision tree classifier \n",
    "y_test_pred_tree=classifier_tree.predict(X_test_transformed) \n",
    "\n",
    "#for random forest classifier \n",
    "y_test_pred_forest=classifier_forest.predict(X_test_transformed)"
   ]
  },
  {
   "cell_type": "markdown",
   "id": "0051b38f",
   "metadata": {},
   "source": [
    "### EVALUATION \n",
    "\n",
    "**Since the target variable is discrete here we are using one of classification evaluation metrics \n",
    "Accuracy**"
   ]
  },
  {
   "cell_type": "code",
   "execution_count": 54,
   "id": "307ea2dd",
   "metadata": {},
   "outputs": [
    {
     "name": "stdout",
     "output_type": "stream",
     "text": [
      "for logistic regressor classifier model the accuracy is : 0.9777777777777777\n",
      "for Knn classifier model the accuracy is :  0.9777777777777777\n",
      "for decision tree classifier model the accuracy is :  0.8888888888888888\n",
      "for random forest classifier model the accuracy is :  0.9555555555555556\n"
     ]
    }
   ],
   "source": [
    "from sklearn import metrics \n",
    "\n",
    "## for logistic regression classifier  model\n",
    "print(\"for logistic regressor classifier model the accuracy is :\",metrics.accuracy_score(y_test,y_test_pred_logistic))\n",
    "\n",
    "#for knn classifier model\n",
    "print(\"for Knn classifier model the accuracy is : \",metrics.accuracy_score(y_test,y_test_pred_knn))\n",
    "\n",
    "# for decision tree classifier model\n",
    "print(\"for decision tree classifier model the accuracy is : \",metrics.accuracy_score(y_test,y_test_pred_tree))\n",
    "\n",
    "#for random forest classifier model\n",
    "print(\"for random forest classifier model the accuracy is : \",metrics.accuracy_score(y_test,y_test_pred_forest))\n"
   ]
  },
  {
   "cell_type": "markdown",
   "id": "bcdcfcab",
   "metadata": {},
   "source": [
    "#### Answer : The accuracy of logistic regression model is 97.77 %"
   ]
  },
  {
   "cell_type": "code",
   "execution_count": null,
   "id": "93c18a62",
   "metadata": {},
   "outputs": [],
   "source": []
  }
 ],
 "metadata": {
  "kernelspec": {
   "display_name": "Python 3 (ipykernel)",
   "language": "python",
   "name": "python3"
  },
  "language_info": {
   "codemirror_mode": {
    "name": "ipython",
    "version": 3
   },
   "file_extension": ".py",
   "mimetype": "text/x-python",
   "name": "python",
   "nbconvert_exporter": "python",
   "pygments_lexer": "ipython3",
   "version": "3.11.5"
  }
 },
 "nbformat": 4,
 "nbformat_minor": 5
}
